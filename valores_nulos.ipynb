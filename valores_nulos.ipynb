{
 "cells": [
  {
   "cell_type": "markdown",
   "metadata": {},
   "source": [
    "Valores por 0\n"
   ]
  },
  {
   "cell_type": "code",
   "execution_count": null,
   "metadata": {},
   "outputs": [
    {
     "name": "stdout",
     "output_type": "stream",
     "text": [
      "0     27591730.13\n",
      "1     25749179.40\n",
      "2     27472228.72\n",
      "3     28827479.49\n",
      "4     27569311.41\n",
      "5     28763865.42\n",
      "6     30815311.77\n",
      "7     30763355.89\n",
      "8     30135595.70\n",
      "9     31980223.91\n",
      "10    33122387.95\n",
      "11    40320285.28\n",
      "12    32103107.86\n",
      "13           0.00\n",
      "14           0.00\n",
      "15           0.00\n",
      "16           0.00\n",
      "17           0.00\n",
      "18           0.00\n",
      "19    38852702.48\n",
      "Name: salon_ventas, dtype: float64\n"
     ]
    }
   ],
   "source": [
    "import pandas as pd\n",
    "\n",
    "# Cargar el archivo CSV (asegúrate de que esté en la misma carpeta o da la ruta completa)\n",
    "df = pd.read_csv(\"Ventas_totales.csv\")\n",
    "\n",
    "# Reemplazar valores nulos (por ejemplo, con 0)\n",
    "df.fillna(0, inplace=True)\n",
    "\n",
    "# Mostrar las primeras filas\n",
    "print(df[\"salon_ventas\"].head(20))\n"
   ]
  },
  {
   "cell_type": "markdown",
   "metadata": {},
   "source": [
    "Valores nulos por media"
   ]
  },
  {
   "cell_type": "code",
   "execution_count": 17,
   "metadata": {},
   "outputs": [
    {
     "name": "stdout",
     "output_type": "stream",
     "text": [
      "0     9.047205e+06\n",
      "1     8.309150e+06\n",
      "2     8.845010e+06\n",
      "3     9.458167e+06\n",
      "4     9.220930e+06\n",
      "5     9.196110e+06\n",
      "6     1.016290e+07\n",
      "7     2.636778e+07\n",
      "8     9.795879e+06\n",
      "9     1.144746e+07\n",
      "10    1.255346e+07\n",
      "11    1.457601e+07\n",
      "12    1.125675e+07\n",
      "13    1.136465e+07\n",
      "14    1.317537e+07\n",
      "15    1.219329e+07\n",
      "16    1.324150e+07\n",
      "17    1.362389e+07\n",
      "18    1.315134e+07\n",
      "19    1.399725e+07\n",
      "Name: tarjetas_credito, dtype: float64\n"
     ]
    },
    {
     "name": "stderr",
     "output_type": "stream",
     "text": [
      "C:\\Users\\reyes\\AppData\\Local\\Temp\\ipykernel_8144\\3263521116.py:8: FutureWarning: A value is trying to be set on a copy of a DataFrame or Series through chained assignment using an inplace method.\n",
      "The behavior will change in pandas 3.0. This inplace method will never work because the intermediate object on which we are setting values always behaves as a copy.\n",
      "\n",
      "For example, when doing 'df[col].method(value, inplace=True)', try using 'df.method({col: value}, inplace=True)' or df[col] = df[col].method(value) instead, to perform the operation inplace on the original object.\n",
      "\n",
      "\n",
      "  df[\"tarjetas_credito\"].fillna(median_tarjetas_credito, inplace=True)\n"
     ]
    }
   ],
   "source": [
    "import pandas as pd\n",
    "\n",
    "# Cargar el archivo CSV (asegúrate de que esté en la misma carpeta o da la ruta completa)\n",
    "df = pd.read_csv(\"Ventas_totales.csv\")\n",
    "\n",
    "# Calcular la mediana de la columna \"salon_ventas\" y reemplazar los valores nulos con esta mediana\n",
    "median_tarjetas_credito = df[\"tarjetas_credito\"].median()\n",
    "df[\"tarjetas_credito\"].fillna(median_tarjetas_credito, inplace=True)\n",
    "\n",
    "# Mostrar los primeros 20 valores de la columna \"salon_ventas\" después del reemplazo\n",
    "print(df[\"tarjetas_credito\"].head(20))\n",
    "\n"
   ]
  }
 ],
 "metadata": {
  "kernelspec": {
   "display_name": "valores_csv",
   "language": "python",
   "name": "python3"
  },
  "language_info": {
   "codemirror_mode": {
    "name": "ipython",
    "version": 3
   },
   "file_extension": ".py",
   "mimetype": "text/x-python",
   "name": "python",
   "nbconvert_exporter": "python",
   "pygments_lexer": "ipython3",
   "version": "3.12.6"
  }
 },
 "nbformat": 4,
 "nbformat_minor": 2
}
